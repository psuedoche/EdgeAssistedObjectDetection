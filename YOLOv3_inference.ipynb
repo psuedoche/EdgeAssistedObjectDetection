{
 "cells": [
  {
   "cell_type": "markdown",
   "metadata": {
    "id": "HvhYZrIZCEyo"
   },
   "source": [
    "<img src=\"https://user-images.githubusercontent.com/26833433/99805971-90f66b80-2b3d-11eb-80eb-8b45a15cb68e.jpg\">\n",
    "\n",
    "This is the **official YOLOv3 🚀 notebook** authored by **Ultralytics**, and is freely available for redistribution under the [GPL-3.0 license](https://choosealicense.com/licenses/gpl-3.0/). \n",
    "For more information please visit https://github.com/ultralytics/yolov3 and https://www.ultralytics.com. Thank you!"
   ]
  },
  {
   "cell_type": "markdown",
   "metadata": {
    "id": "7mGmQbAO5pQb"
   },
   "source": [
    "# Setup\n",
    "\n",
    "Clone repo, install dependencies and check PyTorch and GPU."
   ]
  },
  {
   "cell_type": "code",
   "execution_count": 1,
   "metadata": {
    "colab": {
     "base_uri": "https://localhost:8080/"
    },
    "id": "wbvMlHd_QwMG",
    "outputId": "b42ac964-3674-4e35-9f68-f662cae20c23"
   },
   "outputs": [
    {
     "name": "stdout",
     "output_type": "stream",
     "text": [
      "Setup complete. Using torch 1.7.1 (CPU)\n"
     ]
    }
   ],
   "source": [
    "!git clone https://github.com/ultralytics/yolov3 \n",
    "%cd yolov3\n",
    "%pip install -qr requirements.txt \n",
    "\n",
    "import torch\n",
    "from IPython.display import Image, clear_output\n",
    "\n",
    "clear_output()\n",
    "print(f\"Setup complete. Using torch {torch.__version__} ({torch.cuda.get_device_properties(0).name if torch.cuda.is_available() else 'CPU'})\")"
   ]
  },
  {
   "cell_type": "markdown",
   "metadata": {
    "id": "4JnkELT0cIJg"
   },
   "source": [
    "# Inference\n",
    "\n",
    "`detect.py` runs YOLOv3 inference on a variety of sources, downloading models automatically from the [latest YOLOv3 release](https://github.com/ultralytics/yolov3/releases), and saving results to `runs/detect`. Example inference sources are:\n",
    "\n",
    "<img src=\"https://user-images.githubusercontent.com/26833433/114307955-5c7e4e80-9ae2-11eb-9f50-a90e39bee53f.png\" width=\"900\"> "
   ]
  },
  {
   "cell_type": "code",
   "execution_count": null,
   "metadata": {
    "colab": {
     "base_uri": "https://localhost:8080/",
     "height": 673
    },
    "id": "zR9ZbuQCH7FX",
    "outputId": "9fe3d100-fa6e-4f5b-c2d4-1700160e918d",
    "scrolled": true
   },
   "outputs": [],
   "source": [
    "import requests\n",
    "import os\n",
    "import io\n",
    "import PIL.Image as Image\n",
    "import requests\n",
    "from os import listdir\n",
    "from os.path import isfile, join\n",
    "import time\n",
    "\n",
    "image_list=[]\n",
    "idx=0\n",
    "filePath = \"runs/detect/exp/\"\n",
    "#Fill in start\n",
    "#Change the number of images to fit yours\n",
    "number_of_images=20\n",
    "#Fill in end\n",
    "while (idx<number_of_images):\n",
    "    #Fill in start\n",
    "    #Change the IP address and port number\n",
    "    image_bytes= requests.get('http://10.194.67.194:20000/image').content\n",
    "    #Fill in end\n",
    "    if image_bytes not in image_list and image_bytes !=  b'':\n",
    "        idx = idx + 1\n",
    "        image_list.append(image_bytes)\n",
    "        temp = io.BytesIO(image_bytes)\n",
    "        image = Image.open(temp)\n",
    "        image.save(\"data/images/image\" + str(idx) +\".jpg\")\n",
    "\n",
    "!python detect.py --weights yolov3.pt --img 640 --conf 0.25 --source data/images/\n",
    "\n",
    "onlyfiles = [f for f in listdir(filePath) if isfile(join(filePath, f))]\n",
    "while (True):\n",
    "    for file in onlyfiles:\n",
    "        with open(join(filePath, file), \"rb\") as result:\n",
    "            f = result.read()\n",
    "            result_bytes = bytearray(f)\n",
    "            #Fill in start\n",
    "            #Change the IP address and port number\n",
    "            r = requests.put(\"http://10.194.67.194:20000/result\", data=result_bytes)\n",
    "            #Fill in end\n",
    "            time.sleep(1)"
   ]
  },
  {
   "cell_type": "code",
   "execution_count": 47,
   "metadata": {
    "pycharm": {
     "name": "#%%\n"
    }
   },
   "outputs": [
    {
     "data": {
      "text/plain": [
       "'/Users/lorneez/Projects/356/case-study-2/yolov3'"
      ]
     },
     "execution_count": 47,
     "metadata": {},
     "output_type": "execute_result"
    }
   ],
   "source": [
    "%pwd"
   ]
  },
  {
   "cell_type": "code",
   "execution_count": null,
   "metadata": {
    "pycharm": {
     "name": "#%%\n"
    }
   },
   "outputs": [],
   "source": []
  },
  {
   "cell_type": "code",
   "execution_count": null,
   "metadata": {},
   "outputs": [],
   "source": []
  },
  {
   "cell_type": "code",
   "execution_count": null,
   "metadata": {},
   "outputs": [],
   "source": []
  }
 ],
 "metadata": {
  "accelerator": "GPU",
  "colab": {
   "collapsed_sections": [],
   "name": "Copy of YOLOv3 Tutorial",
   "provenance": []
  },
  "kernelspec": {
   "display_name": "Python 3",
   "language": "python",
   "name": "python3"
  }
 },
 "nbformat": 4,
 "nbformat_minor": 1
}